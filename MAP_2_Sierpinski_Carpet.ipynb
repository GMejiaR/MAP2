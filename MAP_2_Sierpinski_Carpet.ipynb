{
  "nbformat": 4,
  "nbformat_minor": 0,
  "metadata": {
    "colab": {
      "name": "MAP_2_Sierpinski_Carpet.ipynb",
      "provenance": [],
      "collapsed_sections": [],
      "toc_visible": true
    },
    "kernelspec": {
      "display_name": "Python 3",
      "name": "python3"
    }
  },
  "cells": [
    {
      "cell_type": "markdown",
      "metadata": {
        "id": "aBGOAdWNr5b_"
      },
      "source": [
        "![MAP2.png](https://drive.google.com/uc?export=view&id=12TjqJ1QVzTnsWg3TSjoQgmdan7dxhVLK)"
      ]
    },
    {
      "cell_type": "markdown",
      "metadata": {
        "id": "jE3Sfy2UsNFt"
      },
      "source": [
        "# 1. Introducción.\n",
        "\n",
        "En este MAP, nos enfocaremos en utilizar las *series infinitas* para estudiar el concepto de *fractal* en especial el **Sierpinski Carpet**. Para construir el fractal  **Sierpinski Carpet** se siguen los siguientes pasos:\n",
        "\n",
        "\n",
        "\n",
        "\n",
        "*  **Paso $0$:** Se inicia con un cuadrado de lado con longitud $1$ (Ver Figura $a$).\n",
        "*  **Paso $1$:** Dividir el cuadrado inicial en 9 cuadrados pequeños y luego quitar el cuadrado del centro (Ver Figura $b$).\n",
        "\t\t\n",
        "*  \t**Paso $2$:** Aplicar recursivamente el paso 1 en los 8 cuadrados restantes del cuadrado original (Ver Figura $c$).\n",
        "\t\n",
        "*  \t**Paso $3$:** Se repite este procedimiento en cada paso posterior.  El fractal  **Sierpinski Carpet** es lo que resulte de repetir este proceso indefinidamente. \n",
        "\t\n",
        "\n",
        "![MAP1.png](https://drive.google.com/uc?export=view&id=1pfqVGiHjnjv6Cbq_F0pigBhOeHYmVHjL)\n",
        "\n",
        "\n",
        "\n",
        "\n",
        "\n",
        "\t"
      ]
    },
    {
      "cell_type": "markdown",
      "metadata": {
        "id": "gc1e_oY2H-Ib"
      },
      "source": [
        "# 2. Guía Práctica - Parte 2\n"
      ]
    },
    {
      "cell_type": "markdown",
      "metadata": {
        "id": "y0X-MnJYIYij"
      },
      "source": [
        "1.   Implemente ***recursivamente*** las sucesiones  $s_n$, $l_n$ y $A_n$.  **Nota: en cada iteración su implementación debe imprimir el resultado**.\n"
      ]
    },
    {
      "cell_type": "code",
      "metadata": {
        "id": "cLYNzFWsIhpC"
      },
      "source": [
        "###### Agregue las lineas de código que considere necesarias para este inciso.\n",
        "\n",
        "\n",
        "\n",
        "######"
      ],
      "execution_count": null,
      "outputs": []
    },
    {
      "cell_type": "markdown",
      "metadata": {
        "id": "WRHKXSwBIu6C"
      },
      "source": [
        "\n",
        "2.   Usando su implementación del inciso anterior calcule $s_n$, $l_n$ y $A_n$ cuando la iteración sea $n=10,\\,15,\\,25$.\n",
        "\n"
      ]
    },
    {
      "cell_type": "code",
      "metadata": {
        "id": "MBbv0ukmI3PJ"
      },
      "source": [
        "###### Agregue las lineas de código que considere necesarias para este inciso.\n",
        "\n",
        "\n",
        "\n",
        "######"
      ],
      "execution_count": null,
      "outputs": []
    },
    {
      "cell_type": "markdown",
      "metadata": {
        "id": "P94YGHj0I4I5"
      },
      "source": [
        "3.   Implemente la **serie infinita** para el área encerrada del Sierpinski Carpet.\n",
        "\n"
      ]
    },
    {
      "cell_type": "code",
      "metadata": {
        "id": "qK0U9eMGI9cx"
      },
      "source": [
        "###### Agregue las lineas de código que considere necesarias para este inciso.\n",
        "\n",
        "\n",
        "\n",
        "######"
      ],
      "execution_count": null,
      "outputs": []
    },
    {
      "cell_type": "markdown",
      "metadata": {
        "id": "9OHsYL13I9lp"
      },
      "source": [
        "4.   Usando el inciso anterior calcule el área total del Sierpinski Carpet para $n=10,\\,15,\\,25$."
      ]
    },
    {
      "cell_type": "code",
      "metadata": {
        "id": "roQrFUOmJfBC"
      },
      "source": [
        "###### Agregue las lineas de código que considere necesarias para este inciso.\n",
        "\n",
        "\n",
        "\n",
        "######"
      ],
      "execution_count": null,
      "outputs": []
    },
    {
      "cell_type": "markdown",
      "metadata": {
        "id": "Pe0KfRjD1FB1"
      },
      "source": [
        "5.   **Agregue imágenes de sus implementaciones y resultados de los incisos anteriores en el reporte.**"
      ]
    }
  ]
}