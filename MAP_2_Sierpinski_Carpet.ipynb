{
  "cells": [
    {
      "cell_type": "markdown",
      "metadata": {
        "id": "view-in-github",
        "colab_type": "text"
      },
      "source": [
        "<a href=\"https://colab.research.google.com/github/GMejiaR/MAP2/blob/master/MAP_2_Sierpinski_Carpet.ipynb\" target=\"_parent\"><img src=\"https://colab.research.google.com/assets/colab-badge.svg\" alt=\"Open In Colab\"/></a>"
      ]
    },
    {
      "cell_type": "markdown",
      "metadata": {
        "id": "aBGOAdWNr5b_"
      },
      "source": [
        "![MAP2.png](https://drive.google.com/uc?export=view&id=12TjqJ1QVzTnsWg3TSjoQgmdan7dxhVLK)"
      ]
    },
    {
      "cell_type": "markdown",
      "metadata": {
        "id": "jE3Sfy2UsNFt"
      },
      "source": [
        "# 1. Introducción.\n",
        "\n",
        "En este MAP, nos enfocaremos en utilizar las *series infinitas* para estudiar el concepto de *fractal* en especial el **Sierpinski Carpet**. Para construir el fractal  **Sierpinski Carpet** se siguen los siguientes pasos:\n",
        "\n",
        "\n",
        "\n",
        "\n",
        "*  **Paso $0$:** Se inicia con un cuadrado de lado con longitud $1$ (Ver Figura $a$).\n",
        "*  **Paso $1$:** Dividir el cuadrado inicial en 9 cuadrados pequeños y luego quitar el cuadrado del centro (Ver Figura $b$).\n",
        "\t\t\n",
        "*  \t**Paso $2$:** Aplicar recursivamente el paso 1 en los 8 cuadrados restantes del cuadrado original (Ver Figura $c$).\n",
        "\t\n",
        "*  \t**Paso $3$:** Se repite este procedimiento en cada paso posterior.  El fractal  **Sierpinski Carpet** es lo que resulte de repetir este proceso indefinidamente. \n",
        "\t\n",
        "\n",
        "![MAP1.png](https://drive.google.com/uc?export=view&id=1pfqVGiHjnjv6Cbq_F0pigBhOeHYmVHjL)\n",
        "\n",
        "\n",
        "\n",
        "\n",
        "\n",
        "\t"
      ]
    },
    {
      "cell_type": "markdown",
      "metadata": {
        "id": "gc1e_oY2H-Ib"
      },
      "source": [
        "# 2. Guía Práctica - Parte 2\n"
      ]
    },
    {
      "cell_type": "markdown",
      "metadata": {
        "id": "y0X-MnJYIYij"
      },
      "source": [
        "1.   Implemente ***recursivamente*** las sucesiones  $s_n$, $l_n$ y $A_n$.  **Nota: en cada iteración su implementación debe imprimir el resultado**.\n"
      ]
    },
    {
      "cell_type": "code",
      "execution_count": 38,
      "metadata": {
        "colab": {
          "base_uri": "https://localhost:8080/"
        },
        "id": "cLYNzFWsIhpC",
        "outputId": "a7887cba-ce66-42d2-90f3-f17dc3f32b2c"
      },
      "outputs": [
        {
          "output_type": "stream",
          "name": "stdout",
          "text": [
            "\n",
            "--------------------------------\n",
            "           Ejercicio 1          \n",
            "--------------------------------\n",
            "\n",
            "Ingrese el número de iteraciones: 4\n",
            "\n",
            "--------------------------------\n",
            "                Sn              \n",
            "--------------------------------\n",
            "\n",
            "Sn con n = 0 : 1\n",
            "\n",
            "Sn con n = 1 : 8\n",
            "\n",
            "Sn con n = 2 : 64\n",
            "\n",
            "Sn con n = 3 : 512\n",
            "\n",
            "\n",
            "--------------------------------\n",
            "                Ln              \n",
            "--------------------------------\n",
            "\n",
            "ln con n = 0 : 0\n",
            "\n",
            "ln con n = 1 : 1/3\n",
            "\n",
            "ln con n = 2 : 1/9\n",
            "\n",
            "ln con n = 3 : 1/27\n",
            "\n",
            "\n",
            "--------------------------------\n",
            "                An              \n",
            "--------------------------------\n",
            "\n",
            "An con n = 0 : 1\n",
            "\n",
            "An con n = 1 : 8/9\n",
            "\n",
            "An con n = 2 : 64/81\n",
            "\n",
            "An con n = 3 : 512/729\n",
            "\n"
          ]
        }
      ],
      "source": [
        "###### Agregue las lineas de código que considere necesarias para este inciso.\n",
        "from fractions import Fraction\n",
        "from decimal import Decimal\n",
        "\n",
        "print()\n",
        "print(\"--------------------------------\")\n",
        "print(\"           Ejercicio 1          \")\n",
        "print(\"--------------------------------\")\n",
        "print()\n",
        "\n",
        "k = int(input(\"Ingrese el número de iteraciones: \"))\n",
        "print()\n",
        "aux = 0\n",
        "contador = 0\n",
        "contador2 = 1\n",
        "\n",
        "def sn(num, n, cont):\n",
        "  print()\n",
        "  if num != 0:\n",
        "    sum = (pow(8, cont))\n",
        "    print(\"Sn con n =\", cont , \":\", sum)\n",
        "    cont += 1\n",
        "    sn(num - 1, sum, cont)\n",
        "\n",
        "def ln(num, cont):\n",
        "  print()\n",
        "  if num > 0 and cont > 0:\n",
        "    numerador = 1\n",
        "    denominador = (pow(3,cont))\n",
        "    print(\"ln con n =\", cont , \":\", Fraction(numerador,denominador))\n",
        "    cont += 1\n",
        "    ln(num -1, cont)\n",
        "  elif cont == 0:\n",
        "      print(\"ln con n = 0 : 0\")\n",
        "      cont +=1\n",
        "      ln(num -1, cont)\n",
        "  \n",
        "\n",
        "def an(num, n, cont):  \n",
        "  print()\n",
        "  if num > 0:\n",
        "    global suc\n",
        "    #suc = (pow(8,cont-1)/pow(9,cont)) + n\n",
        "    numerador = pow(8,cont)\n",
        "    denominador = pow(9,cont)\n",
        "    print(\"An con n =\", cont , \":\", Fraction(numerador,denominador))\n",
        "    cont += 1\n",
        "    #print(\"Área total: \", suc)\n",
        "    an(num - 1, suc, cont)\n",
        "   \n",
        "\n",
        "print(\"--------------------------------\")\n",
        "print(\"                Sn              \")\n",
        "print(\"--------------------------------\")\n",
        "sn(k,aux,contador)\n",
        "print()\n",
        "print(\"--------------------------------\")\n",
        "print(\"                Ln              \")\n",
        "print(\"--------------------------------\")\n",
        "ln(k,contador)\n",
        "print()\n",
        "print(\"--------------------------------\")\n",
        "print(\"                An              \")\n",
        "print(\"--------------------------------\")\n",
        "an(k,aux,contador)\n",
        "\n",
        "######"
      ]
    },
    {
      "cell_type": "markdown",
      "metadata": {
        "id": "WRHKXSwBIu6C"
      },
      "source": [
        "\n",
        "2.   Usando su implementación del inciso anterior calcule $s_n$, $l_n$ y $A_n$ cuando la iteración sea $n=10,\\,15,\\,25$.\n",
        "\n"
      ]
    },
    {
      "cell_type": "code",
      "execution_count": 52,
      "metadata": {
        "colab": {
          "base_uri": "https://localhost:8080/"
        },
        "id": "MBbv0ukmI3PJ",
        "outputId": "e1f55e77-89bd-458c-fd07-abd4a90354fa"
      },
      "outputs": [
        {
          "output_type": "stream",
          "name": "stdout",
          "text": [
            "\n",
            "------------------------------------------------------------------------------------------\n",
            "                                         Ejercicio 2          \n",
            "------------------------------------------------------------------------------------------\n",
            "\n",
            "\n",
            "------------------------------------------------------------------------------------------\n",
            "                                            Sn              \n",
            "------------------------------------------------------------------------------------------\n",
            "\n",
            "Cuando n = 10:  1073741824\n",
            "\n",
            "\n",
            "Cuando n = 15:  35184372088832\n",
            "\n",
            "\n",
            "Cuando n = 25:  37778931862957161709568\n",
            "\n",
            "\n",
            "------------------------------------------------------------------------------------------\n",
            "                                            Ln              \n",
            "------------------------------------------------------------------------------------------\n",
            "\n",
            "Cuando n = 10:  1/59049  ≈  1.6935087808430286e-05\n",
            "\n",
            "\n",
            "Cuando n = 15:  1/14348907  ≈  6.969171937625632e-08\n",
            "\n",
            "\n",
            "Cuando n = 25:  1/847288609443  ≈  1.1802353871573832e-12\n",
            "\n",
            "\n",
            "------------------------------------------------------------------------------------------\n",
            "                                             An              \n",
            "------------------------------------------------------------------------------------------\n",
            "\n",
            "Cuando n = 10:  1073741824/3486784401  ≈  0.3079461476574387\n",
            "\n",
            "\n",
            "Cuando n = 15:  35184372088832/205891132094649  ≈  0.1708882346261402\n",
            "\n",
            "\n",
            "Cuando n = 25:  37778931862957161709568/717897987691852588770249  ≈  0.0526243735331004\n",
            "\n"
          ]
        }
      ],
      "source": [
        "###### Agregue las lineas de código que considere necesarias para este inciso.\n",
        "from fractions import Fraction\n",
        "\n",
        "print()\n",
        "print(\"------------------------------------------------------------------------------------------\")\n",
        "print(\"                                         Ejercicio 2          \")\n",
        "print(\"------------------------------------------------------------------------------------------\")\n",
        "print()\n",
        "print()\n",
        "\n",
        "aux = 0\n",
        "contador = 0\n",
        "contador2 = 1\n",
        "\n",
        "def sn(num):\n",
        "  print()\n",
        "  res = (pow(8, num))\n",
        "  return res\n",
        "\n",
        "def lnFrac(num):\n",
        "  print()\n",
        "  numerador = 1\n",
        "  denominador = (pow(3,num))\n",
        "  return Fraction(numerador,denominador)\n",
        "\n",
        "def lnDec(num):\n",
        "  numerador = 1\n",
        "  denominador = (pow(3,num))\n",
        "  return numerador/denominador\n",
        "  \n",
        "\n",
        "def anFrac(num):  \n",
        "  print()\n",
        "  numerador = pow(8,num)\n",
        "  denominador = pow(9,num)\n",
        "  return Fraction(numerador,denominador)\n",
        "\n",
        "def anDec(num):  \n",
        "  numerador = pow(8,num)\n",
        "  denominador = pow(9,num)\n",
        "  res = numerador/denominador\n",
        "  return res\n",
        "   \n",
        "\n",
        "print(\"------------------------------------------------------------------------------------------\")\n",
        "print(\"                                            Sn              \")\n",
        "print(\"------------------------------------------------------------------------------------------\")\n",
        "print(\"Cuando n = 10: \", sn(10))\n",
        "print()\n",
        "print(\"Cuando n = 15: \", sn(15))\n",
        "print()\n",
        "print(\"Cuando n = 25: \", sn(25))\n",
        "print()\n",
        "print()\n",
        "print(\"------------------------------------------------------------------------------------------\")\n",
        "print(\"                                            Ln              \")\n",
        "print(\"------------------------------------------------------------------------------------------\")\n",
        "print(\"Cuando n = 10: \", lnFrac(10),\" ≈ \", lnDec(10))\n",
        "print()\n",
        "print(\"Cuando n = 15: \", lnFrac(15),\" ≈ \", lnDec(15))\n",
        "print()\n",
        "print(\"Cuando n = 25: \", lnFrac(25),\" ≈ \", lnDec(25))\n",
        "print()\n",
        "print()\n",
        "print(\"------------------------------------------------------------------------------------------\")\n",
        "print(\"                                             An              \")\n",
        "print(\"------------------------------------------------------------------------------------------\")\n",
        "print(\"Cuando n = 10: \", anFrac(10),\" ≈ \", anDec(10))\n",
        "print()\n",
        "print(\"Cuando n = 15: \", anFrac(15),\" ≈ \", anDec(15))\n",
        "print()\n",
        "print(\"Cuando n = 25: \", anFrac(25),\" ≈ \", anDec(25))\n",
        "print()\n",
        "\n",
        "######"
      ]
    },
    {
      "cell_type": "markdown",
      "metadata": {
        "id": "P94YGHj0I4I5"
      },
      "source": [
        "3.   Implemente la **serie infinita** para el área encerrada del Sierpinski Carpet.\n",
        "\n"
      ]
    },
    {
      "cell_type": "code",
      "execution_count": null,
      "metadata": {
        "id": "qK0U9eMGI9cx"
      },
      "outputs": [],
      "source": [
        "###### Agregue las lineas de código que considere necesarias para este inciso.\n",
        "\n",
        "\n",
        "\n",
        "######"
      ]
    },
    {
      "cell_type": "markdown",
      "metadata": {
        "id": "9OHsYL13I9lp"
      },
      "source": [
        "4.   Usando el inciso anterior calcule el área total del Sierpinski Carpet para $n=10,\\,15,\\,25$."
      ]
    },
    {
      "cell_type": "code",
      "execution_count": null,
      "metadata": {
        "id": "roQrFUOmJfBC"
      },
      "outputs": [],
      "source": [
        "###### Agregue las lineas de código que considere necesarias para este inciso.\n",
        "\n",
        "\n",
        "\n",
        "######"
      ]
    },
    {
      "cell_type": "markdown",
      "metadata": {
        "id": "Pe0KfRjD1FB1"
      },
      "source": [
        "5.   **Agregue imágenes de sus implementaciones y resultados de los incisos anteriores en el reporte.**"
      ]
    }
  ],
  "metadata": {
    "colab": {
      "collapsed_sections": [],
      "name": "MAP_2_Sierpinski_Carpet.ipynb",
      "provenance": [],
      "include_colab_link": true
    },
    "kernelspec": {
      "display_name": "Python 3",
      "name": "python3"
    }
  },
  "nbformat": 4,
  "nbformat_minor": 0
}