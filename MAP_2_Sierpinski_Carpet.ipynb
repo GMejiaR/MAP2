{
  "cells": [
    {
      "cell_type": "markdown",
      "metadata": {
        "id": "view-in-github",
        "colab_type": "text"
      },
      "source": [
        "<a href=\"https://colab.research.google.com/github/GMejiaR/MAP2/blob/master/MAP_2_Sierpinski_Carpet.ipynb\" target=\"_parent\"><img src=\"https://colab.research.google.com/assets/colab-badge.svg\" alt=\"Open In Colab\"/></a>"
      ]
    },
    {
      "cell_type": "markdown",
      "metadata": {
        "id": "aBGOAdWNr5b_"
      },
      "source": [
        "![MAP2.png](https://drive.google.com/uc?export=view&id=12TjqJ1QVzTnsWg3TSjoQgmdan7dxhVLK)"
      ]
    },
    {
      "cell_type": "markdown",
      "metadata": {
        "id": "jE3Sfy2UsNFt"
      },
      "source": [
        "# 1. Introducción.\n",
        "\n",
        "En este MAP, nos enfocaremos en utilizar las *series infinitas* para estudiar el concepto de *fractal* en especial el **Sierpinski Carpet**. Para construir el fractal  **Sierpinski Carpet** se siguen los siguientes pasos:\n",
        "\n",
        "\n",
        "\n",
        "\n",
        "*  **Paso $0$:** Se inicia con un cuadrado de lado con longitud $1$ (Ver Figura $a$).\n",
        "*  **Paso $1$:** Dividir el cuadrado inicial en 9 cuadrados pequeños y luego quitar el cuadrado del centro (Ver Figura $b$).\n",
        "\t\t\n",
        "*  \t**Paso $2$:** Aplicar recursivamente el paso 1 en los 8 cuadrados restantes del cuadrado original (Ver Figura $c$).\n",
        "\t\n",
        "*  \t**Paso $3$:** Se repite este procedimiento en cada paso posterior.  El fractal  **Sierpinski Carpet** es lo que resulte de repetir este proceso indefinidamente. \n",
        "\t\n",
        "\n",
        "![MAP1.png](https://drive.google.com/uc?export=view&id=1pfqVGiHjnjv6Cbq_F0pigBhOeHYmVHjL)\n",
        "\n",
        "\n",
        "\n",
        "\n",
        "\n",
        "\t"
      ]
    },
    {
      "cell_type": "markdown",
      "metadata": {
        "id": "gc1e_oY2H-Ib"
      },
      "source": [
        "# 2. Guía Práctica - Parte 2\n"
      ]
    },
    {
      "cell_type": "markdown",
      "metadata": {
        "id": "y0X-MnJYIYij"
      },
      "source": [
        "1.   Implemente ***recursivamente*** las sucesiones  $s_n$, $l_n$ y $A_n$.  **Nota: en cada iteración su implementación debe imprimir el resultado**.\n"
      ]
    },
    {
      "cell_type": "code",
      "execution_count": 36,
      "metadata": {
        "colab": {
          "base_uri": "https://localhost:8080/"
        },
        "id": "cLYNzFWsIhpC",
        "outputId": "b26de272-a445-4a8a-dbc9-8d81f3dba250"
      },
      "outputs": [
        {
          "output_type": "stream",
          "name": "stdout",
          "text": [
            "\n",
            "--------------------------------\n",
            "           Ejercicio 1          \n",
            "--------------------------------\n",
            "\n",
            "Ingrese el número de iteraciones: 4\n",
            "\n",
            "--------------------------------\n",
            "                Sn              \n",
            "--------------------------------\n",
            "\n",
            "Sn con n = 0 : 1\n",
            "\n",
            "Sn con n = 1 : 8\n",
            "\n",
            "Sn con n = 2 : 64\n",
            "\n",
            "Sn con n = 3 : 512\n",
            "\n",
            "\n",
            "--------------------------------\n",
            "                Ln              \n",
            "--------------------------------\n",
            "\n",
            "ln con n = 0 : 0\n",
            "\n",
            "ln con n = 1 : 0.3333333333333333\n",
            "\n",
            "ln con n = 2 : 0.1111111111111111\n",
            "\n",
            "ln con n = 3 : 0.037037037037037035\n",
            "\n",
            "\n",
            "--------------------------------\n",
            "                An              \n",
            "--------------------------------\n",
            "\n",
            "An con n = 0 : 1.0\n",
            "\n",
            "An con n = 1 : 0.8888888888888888\n",
            "\n",
            "An con n = 2 : 0.7901234567901234\n",
            "\n",
            "An con n = 3 : 0.7023319615912208\n",
            "\n"
          ]
        }
      ],
      "source": [
        "###### Agregue las lineas de código que considere necesarias para este inciso.\n",
        "from fractions import Fraction\n",
        "from decimal import Decimal\n",
        "\n",
        "print()\n",
        "print(\"--------------------------------\")\n",
        "print(\"           Ejercicio 1          \")\n",
        "print(\"--------------------------------\")\n",
        "print()\n",
        "\n",
        "k = int(input(\"Ingrese el número de iteraciones: \"))\n",
        "print()\n",
        "aux = 0\n",
        "contador = 0\n",
        "contador2 = 1\n",
        "\n",
        "def sn(num, n, cont):\n",
        "  print()\n",
        "  if num != 0:\n",
        "    sum = (pow(8, cont))\n",
        "    print(\"Sn con n =\", cont , \":\", sum)\n",
        "    cont += 1\n",
        "    sn(num - 1, sum, cont)\n",
        "\n",
        "def ln(num, cont):\n",
        "  print()\n",
        "  if num > 0 and cont > 0:\n",
        "    lnT = 1/(pow(3,cont))\n",
        "    print(\"ln con n =\", cont , \":\", lnT)\n",
        "    cont += 1\n",
        "    ln(num -1, cont)\n",
        "  elif cont == 0:\n",
        "      print(\"ln con n = 0 : 0\")\n",
        "      cont +=1\n",
        "      ln(num -1, cont)\n",
        "  \n",
        "\n",
        "def an(num, n, cont):  \n",
        "  print()\n",
        "  if num > 0:\n",
        "    global suc\n",
        "    suc = (pow(8,cont-1)/pow(9,cont)) + n\n",
        "    sucAux = (pow(8,cont)/pow(9,cont))\n",
        "    print(\"An con n =\", cont , \":\", sucAux)\n",
        "    cont += 1\n",
        "    #print(\"Área total: \", suc)\n",
        "    an(num - 1, suc, cont)\n",
        "   \n",
        "\n",
        "print(\"--------------------------------\")\n",
        "print(\"                Sn              \")\n",
        "print(\"--------------------------------\")\n",
        "sn(k,aux,contador)\n",
        "print()\n",
        "print(\"--------------------------------\")\n",
        "print(\"                Ln              \")\n",
        "print(\"--------------------------------\")\n",
        "ln(k,contador)\n",
        "print()\n",
        "print(\"--------------------------------\")\n",
        "print(\"                An              \")\n",
        "print(\"--------------------------------\")\n",
        "an(k,aux,contador)\n",
        "\n",
        "######"
      ]
    },
    {
      "cell_type": "markdown",
      "metadata": {
        "id": "WRHKXSwBIu6C"
      },
      "source": [
        "\n",
        "2.   Usando su implementación del inciso anterior calcule $s_n$, $l_n$ y $A_n$ cuando la iteración sea $n=10,\\,15,\\,25$.\n",
        "\n"
      ]
    },
    {
      "cell_type": "code",
      "execution_count": 78,
      "metadata": {
        "colab": {
          "base_uri": "https://localhost:8080/"
        },
        "id": "MBbv0ukmI3PJ",
        "outputId": "269a8b3f-fd4a-4dd3-a96c-e6da775e74b0"
      },
      "outputs": [
        {
          "output_type": "stream",
          "name": "stdout",
          "text": [
            "\n",
            "--------------------------------\n",
            "           Ejercicio 2          \n",
            "--------------------------------\n",
            "\n",
            "--------------------------------\n",
            "                Sn              \n",
            "--------------------------------\n",
            "\n",
            "Sn cuando n = 10\n",
            "Resultado:  153391689\n",
            "\n",
            "Sn cuando n = 15\n",
            "Resultado:  5026338869833\n",
            "\n",
            "Sn cuando n = 25\n",
            "Resultado:  5396990266136737387081\n",
            "\n",
            "\n",
            "--------------------------------\n",
            "                Ln              \n",
            "--------------------------------\n",
            "\n",
            "Ln cuando n = 10\n",
            "Resultado:  2.8679719907924413e-10\n",
            "\n",
            "Ln cuando n = 15\n",
            "Resultado:  4.8569357496188614e-15\n",
            "\n",
            "Ln cuando n = 25\n",
            "Resultado:  1.3929555690985384e-24\n",
            "\n",
            "--------------------------------\n",
            "                An              \n",
            "--------------------------------\n",
            "An cuando n = 10\n",
            "Área total:  0.6920538523425612\n",
            "Resultado:  0.03849326845717984\n",
            "\n",
            "An cuando n = 15\n",
            "Área total:  0.8291117653738599\n",
            "Resultado:  0.021361029328267524\n",
            "\n",
            "An cuando n = 25\n",
            "Área total:  0.9473756264668995\n",
            "Resultado:  0.00657804669163755\n",
            "\n"
          ]
        }
      ],
      "source": [
        "###### Agregue las lineas de código que considere necesarias para este inciso.\n",
        "\n",
        "print()\n",
        "print(\"--------------------------------\")\n",
        "print(\"           Ejercicio 2          \")\n",
        "print(\"--------------------------------\")\n",
        "print()\n",
        "\n",
        "aux = 0\n",
        "contador = 1\n",
        "sumSn = []\n",
        "sumAn = []\n",
        "\n",
        "def sn(num, n, cont):\n",
        "  if cont <= num:\n",
        "    sum = (pow(8, cont-1)) + n\n",
        "    cont += 1\n",
        "    sn(num, sum, cont)\n",
        "    sumSn.append(sum)\n",
        "    return sumSn\n",
        "  if cont > num:\n",
        "    sumSn.clear() \n",
        "\n",
        "\n",
        "def an(num, n, cont):  \n",
        "  if num > 0:\n",
        "    global suc\n",
        "    suc = (pow(8,cont-1)/pow(9,cont)) + n\n",
        "    sucAux = (pow(8,cont-1)/pow(9,cont))\n",
        "    cont += 1\n",
        "    an(num - 1, suc, cont)\n",
        "    sumAn.append(sucAux)\n",
        "    return sumAn\n",
        "  if num == 0:\n",
        "    print(\"Área total: \", suc)\n",
        "    sumAn.clear()\n",
        "\n",
        "print(\"--------------------------------\")\n",
        "print(\"                Sn              \")\n",
        "print(\"--------------------------------\")\n",
        "print()\n",
        "#print(\"********************************\")\n",
        "print(\"Sn cuando n = 10\")\n",
        "lista1 = sn(10,aux,contador)\n",
        "print(\"Resultado: \", lista1[0])\n",
        "#print(\"********************************\")\n",
        "print()\n",
        "#print(\"********************************\")\n",
        "print(\"Sn cuando n = 15\")\n",
        "lista2 = sn(15,aux,contador)\n",
        "print(\"Resultado: \", lista2[0])\n",
        "#print(\"********************************\")\n",
        "print()\n",
        "#print(\"********************************\")\n",
        "print(\"Sn cuando n = 25\")\n",
        "lista3 = sn(25,aux,contador)\n",
        "print(\"Resultado: \", lista3[0])\n",
        "#print(\"********************************\")\n",
        "print()\n",
        "print()\n",
        "print(\"--------------------------------\")\n",
        "print(\"                Ln              \")\n",
        "print(\"--------------------------------\")\n",
        "print()\n",
        "print(\"Ln cuando n = 10\")\n",
        "ln = 1/(pow(9,10))\n",
        "print(\"Resultado: \", ln)\n",
        "print()\n",
        "print(\"Ln cuando n = 15\")\n",
        "ln = 1/(pow(9,15))\n",
        "print(\"Resultado: \", ln)\n",
        "print()\n",
        "print(\"Ln cuando n = 25\")\n",
        "ln = 1/(pow(9,25))\n",
        "print(\"Resultado: \", ln)\n",
        "print()\n",
        "print(\"--------------------------------\")\n",
        "print(\"                An              \")\n",
        "print(\"--------------------------------\")\n",
        "print(\"An cuando n = 10\")\n",
        "listaAn = an(10,aux,contador)\n",
        "print(\"Resultado: \", listaAn[0])\n",
        "print()\n",
        "print(\"An cuando n = 15\")\n",
        "listaAn = an(15,aux,contador)\n",
        "print(\"Resultado: \", listaAn[0])\n",
        "print()\n",
        "print(\"An cuando n = 25\")\n",
        "listaAn = an(25,aux,contador)\n",
        "print(\"Resultado: \", listaAn[0])\n",
        "print()\n",
        "\n",
        "######"
      ]
    },
    {
      "cell_type": "markdown",
      "metadata": {
        "id": "P94YGHj0I4I5"
      },
      "source": [
        "3.   Implemente la **serie infinita** para el área encerrada del Sierpinski Carpet.\n",
        "\n"
      ]
    },
    {
      "cell_type": "code",
      "execution_count": null,
      "metadata": {
        "id": "qK0U9eMGI9cx"
      },
      "outputs": [],
      "source": [
        "###### Agregue las lineas de código que considere necesarias para este inciso.\n",
        "\n",
        "\n",
        "\n",
        "######"
      ]
    },
    {
      "cell_type": "markdown",
      "metadata": {
        "id": "9OHsYL13I9lp"
      },
      "source": [
        "4.   Usando el inciso anterior calcule el área total del Sierpinski Carpet para $n=10,\\,15,\\,25$."
      ]
    },
    {
      "cell_type": "code",
      "execution_count": null,
      "metadata": {
        "id": "roQrFUOmJfBC"
      },
      "outputs": [],
      "source": [
        "###### Agregue las lineas de código que considere necesarias para este inciso.\n",
        "\n",
        "\n",
        "\n",
        "######"
      ]
    },
    {
      "cell_type": "markdown",
      "metadata": {
        "id": "Pe0KfRjD1FB1"
      },
      "source": [
        "5.   **Agregue imágenes de sus implementaciones y resultados de los incisos anteriores en el reporte.**"
      ]
    }
  ],
  "metadata": {
    "colab": {
      "collapsed_sections": [],
      "name": "MAP_2_Sierpinski_Carpet.ipynb",
      "provenance": [],
      "include_colab_link": true
    },
    "kernelspec": {
      "display_name": "Python 3",
      "name": "python3"
    }
  },
  "nbformat": 4,
  "nbformat_minor": 0
}